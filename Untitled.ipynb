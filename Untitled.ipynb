{
 "cells": [
  {
   "cell_type": "code",
   "execution_count": 1,
   "id": "182d0d25-ecfd-4661-97bb-b6d694be0f1e",
   "metadata": {},
   "outputs": [],
   "source": [
    "import requests\n",
    "import psycopg2"
   ]
  },
  {
   "cell_type": "code",
   "execution_count": 2,
   "id": "e1064fcf-15b1-450c-8155-2e6a5043af36",
   "metadata": {},
   "outputs": [],
   "source": [
    "# APi Config"
   ]
  },
  {
   "cell_type": "code",
   "execution_count": 3,
   "id": "b2542edf-e0be-4a87-b22c-402c880318b5",
   "metadata": {
    "scrolled": true
   },
   "outputs": [],
   "source": [
    "API_URL = \" https://v3.football.api-sports.io/\"\n",
    "HEADERS = {'x-rapidapi-key': 'fc243408e4f79d927707f13d0de433a5',\n",
    "          'x-rapidapi-host': 'v3.football.api-sports.io'}\n"
   ]
  },
  {
   "cell_type": "code",
   "execution_count": 4,
   "id": "21a36750-6e29-47ab-b9e1-d3a0f12eaf4c",
   "metadata": {},
   "outputs": [],
   "source": [
    "# Database Connection with Docker"
   ]
  },
  {
   "cell_type": "code",
   "execution_count": 5,
   "id": "6a9a953e-87a8-4562-8c7f-3b10921fd76c",
   "metadata": {},
   "outputs": [],
   "source": [
    "DB_CONFIG = {\n",
    "    \"dbname\" : \"football_betting\",\n",
    "    \"user\": \"ayoabass\",\n",
    "    \"password\": \"tamzynana\",\n",
    "    \"host\": \"localhost\",\n",
    "    \"port\": \"5433\"\n",
    "}"
   ]
  },
  {
   "cell_type": "code",
   "execution_count": 6,
   "id": "7013531f-22fc-4012-8ca4-78353e42f4c0",
   "metadata": {},
   "outputs": [],
   "source": [
    "#Test Connection to PostgreSQL"
   ]
  },
  {
   "cell_type": "code",
   "execution_count": 7,
   "id": "6741c1ac-f835-4e1a-b804-3f17c7feec6a",
   "metadata": {},
   "outputs": [
    {
     "name": "stdout",
     "output_type": "stream",
     "text": [
      "Successfully connected to PostgreSQL inside Docker!\n"
     ]
    }
   ],
   "source": [
    "def test_db_connection():\n",
    "    try:\n",
    "        conn = psycopg2.connect(**DB_CONFIG)\n",
    "        print(\"Successfully connected to PostgreSQL inside Docker!\")\n",
    "        conn.close()\n",
    "    except Exception as e:\n",
    "        print(f\"Connection failed: {e}\")\n",
    "\n",
    "test_db_connection()"
   ]
  },
  {
   "cell_type": "code",
   "execution_count": null,
   "id": "f63e54c3-f29b-4fa8-bf1f-228f243e7ca7",
   "metadata": {},
   "outputs": [],
   "source": []
  }
 ],
 "metadata": {
  "kernelspec": {
   "display_name": "football_stats_extract_env",
   "language": "python",
   "name": "python3"
  },
  "language_info": {
   "codemirror_mode": {
    "name": "ipython",
    "version": 3
   },
   "file_extension": ".py",
   "mimetype": "text/x-python",
   "name": "python",
   "nbconvert_exporter": "python",
   "pygments_lexer": "ipython3",
   "version": "3.10.13"
  }
 },
 "nbformat": 4,
 "nbformat_minor": 5
}
