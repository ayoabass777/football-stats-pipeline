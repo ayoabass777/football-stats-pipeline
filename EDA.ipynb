{
 "cells": [
  {
   "cell_type": "code",
   "execution_count": 1,
   "id": "182d0d25-ecfd-4661-97bb-b6d694be0f1e",
   "metadata": {},
   "outputs": [],
   "source": []
  },
  {
   "cell_type": "code",
   "execution_count": 2,
   "id": "e1064fcf-15b1-450c-8155-2e6a5043af36",
   "metadata": {},
   "outputs": [],
   "source": [
    "# APi Config"
   ]
  },
  {
   "cell_type": "code",
   "execution_count": 3,
   "id": "b2542edf-e0be-4a87-b22c-402c880318b5",
   "metadata": {
    "scrolled": true
   },
   "outputs": [],
   "source": []
  },
  {
   "cell_type": "code",
   "execution_count": 4,
   "id": "21a36750-6e29-47ab-b9e1-d3a0f12eaf4c",
   "metadata": {},
   "outputs": [],
   "source": [
    "# Database Connection with Docker"
   ]
  },
  {
   "cell_type": "code",
   "execution_count": 5,
   "id": "6a9a953e-87a8-4562-8c7f-3b10921fd76c",
   "metadata": {},
   "outputs": [],
   "source": [
    "DB_CONFIG = {\n",
    "    \"dbname\" : \"football_betting\",\n",
    "    \"user\": \"ayoabass\",\n",
    "    \"password\": \"tamzynana\",\n",
    "    \"host\": \"localhost\",\n",
    "    \"port\": \"5433\"\n",
    "}"
   ]
  },
  {
   "cell_type": "code",
   "execution_count": 6,
   "id": "7013531f-22fc-4012-8ca4-78353e42f4c0",
   "metadata": {},
   "outputs": [],
   "source": [
    "#Test Connection to PostgreSQL"
   ]
  },
  {
   "cell_type": "code",
   "execution_count": 7,
   "id": "6741c1ac-f835-4e1a-b804-3f17c7feec6a",
   "metadata": {},
   "outputs": [
    {
     "name": "stdout",
     "output_type": "stream",
     "text": [
      "Successfully connected to PostgreSQL inside Docker!\n"
     ]
    }
   ],
   "source": [
    "def test_db_connection():\n",
    "    try:\n",
    "        conn = psycopg2.connect(**DB_CONFIG)\n",
    "        print(\"Successfully connected to PostgreSQL inside Docker!\")\n",
    "        conn.close()\n",
    "    except Exception as e:\n",
    "        print(f\"Connection failed: {e}\")\n",
    "\n",
    "test_db_connection()"
   ]
  },
  {
   "cell_type": "code",
   "execution_count": 1,
   "id": "f63e54c3-f29b-4fa8-bf1f-228f243e7ca7",
   "metadata": {},
   "outputs": [],
   "source": [
    "import pandas as pd\n",
    "import os \n"
   ]
  },
  {
   "cell_type": "code",
   "execution_count": 2,
   "id": "02fea2d9",
   "metadata": {},
   "outputs": [],
   "source": [
    "df = pd.read_csv('~/Documents/Projects/football_stats_project/cleaned_fixtures.csv')"
   ]
  },
  {
   "cell_type": "code",
   "execution_count": 3,
   "id": "5a01d411",
   "metadata": {},
   "outputs": [
    {
     "data": {
      "text/html": [
       "<div>\n",
       "<style scoped>\n",
       "    .dataframe tbody tr th:only-of-type {\n",
       "        vertical-align: middle;\n",
       "    }\n",
       "\n",
       "    .dataframe tbody tr th {\n",
       "        vertical-align: top;\n",
       "    }\n",
       "\n",
       "    .dataframe thead th {\n",
       "        text-align: right;\n",
       "    }\n",
       "</style>\n",
       "<table border=\"1\" class=\"dataframe\">\n",
       "  <thead>\n",
       "    <tr style=\"text-align: right;\">\n",
       "      <th></th>\n",
       "      <th>fixture_id</th>\n",
       "      <th>league_id</th>\n",
       "      <th>season</th>\n",
       "      <th>date</th>\n",
       "      <th>status</th>\n",
       "      <th>home_team_id</th>\n",
       "      <th>home_team_name</th>\n",
       "      <th>away_team_id</th>\n",
       "      <th>away_team_name</th>\n",
       "      <th>home_team_halftime_goal</th>\n",
       "      <th>away_team_halftime_goal</th>\n",
       "      <th>home_team_fulltime_goal</th>\n",
       "      <th>away_team_fulltime_goal</th>\n",
       "      <th>country</th>\n",
       "      <th>league</th>\n",
       "      <th>home_fulltime_result</th>\n",
       "      <th>away_fulltime_result</th>\n",
       "      <th>home_halftime_result</th>\n",
       "      <th>away_halftime_result</th>\n",
       "    </tr>\n",
       "  </thead>\n",
       "  <tbody>\n",
       "    <tr>\n",
       "      <th>0</th>\n",
       "      <td>1208021</td>\n",
       "      <td>39</td>\n",
       "      <td>2024</td>\n",
       "      <td>2024-08-16 19:00:00+00:00</td>\n",
       "      <td>FT</td>\n",
       "      <td>33</td>\n",
       "      <td>Manchester United</td>\n",
       "      <td>36</td>\n",
       "      <td>Fulham</td>\n",
       "      <td>0.0</td>\n",
       "      <td>0.0</td>\n",
       "      <td>1.0</td>\n",
       "      <td>0.0</td>\n",
       "      <td>england</td>\n",
       "      <td>premier-league</td>\n",
       "      <td>win</td>\n",
       "      <td>loss</td>\n",
       "      <td>draw</td>\n",
       "      <td>draw</td>\n",
       "    </tr>\n",
       "    <tr>\n",
       "      <th>1</th>\n",
       "      <td>1208022</td>\n",
       "      <td>39</td>\n",
       "      <td>2024</td>\n",
       "      <td>2024-08-17 11:30:00+00:00</td>\n",
       "      <td>FT</td>\n",
       "      <td>57</td>\n",
       "      <td>Ipswich</td>\n",
       "      <td>40</td>\n",
       "      <td>Liverpool</td>\n",
       "      <td>0.0</td>\n",
       "      <td>0.0</td>\n",
       "      <td>0.0</td>\n",
       "      <td>2.0</td>\n",
       "      <td>england</td>\n",
       "      <td>premier-league</td>\n",
       "      <td>loss</td>\n",
       "      <td>win</td>\n",
       "      <td>draw</td>\n",
       "      <td>draw</td>\n",
       "    </tr>\n",
       "    <tr>\n",
       "      <th>2</th>\n",
       "      <td>1208025</td>\n",
       "      <td>39</td>\n",
       "      <td>2024</td>\n",
       "      <td>2024-08-17 14:00:00+00:00</td>\n",
       "      <td>FT</td>\n",
       "      <td>34</td>\n",
       "      <td>Newcastle</td>\n",
       "      <td>41</td>\n",
       "      <td>Southampton</td>\n",
       "      <td>1.0</td>\n",
       "      <td>0.0</td>\n",
       "      <td>1.0</td>\n",
       "      <td>0.0</td>\n",
       "      <td>england</td>\n",
       "      <td>premier-league</td>\n",
       "      <td>win</td>\n",
       "      <td>loss</td>\n",
       "      <td>win</td>\n",
       "      <td>loss</td>\n",
       "    </tr>\n",
       "    <tr>\n",
       "      <th>3</th>\n",
       "      <td>1208023</td>\n",
       "      <td>39</td>\n",
       "      <td>2024</td>\n",
       "      <td>2024-08-17 14:00:00+00:00</td>\n",
       "      <td>FT</td>\n",
       "      <td>42</td>\n",
       "      <td>Arsenal</td>\n",
       "      <td>39</td>\n",
       "      <td>Wolves</td>\n",
       "      <td>1.0</td>\n",
       "      <td>0.0</td>\n",
       "      <td>2.0</td>\n",
       "      <td>0.0</td>\n",
       "      <td>england</td>\n",
       "      <td>premier-league</td>\n",
       "      <td>win</td>\n",
       "      <td>loss</td>\n",
       "      <td>win</td>\n",
       "      <td>loss</td>\n",
       "    </tr>\n",
       "    <tr>\n",
       "      <th>4</th>\n",
       "      <td>1208024</td>\n",
       "      <td>39</td>\n",
       "      <td>2024</td>\n",
       "      <td>2024-08-17 14:00:00+00:00</td>\n",
       "      <td>FT</td>\n",
       "      <td>45</td>\n",
       "      <td>Everton</td>\n",
       "      <td>51</td>\n",
       "      <td>Brighton</td>\n",
       "      <td>0.0</td>\n",
       "      <td>1.0</td>\n",
       "      <td>0.0</td>\n",
       "      <td>3.0</td>\n",
       "      <td>england</td>\n",
       "      <td>premier-league</td>\n",
       "      <td>loss</td>\n",
       "      <td>win</td>\n",
       "      <td>loss</td>\n",
       "      <td>win</td>\n",
       "    </tr>\n",
       "  </tbody>\n",
       "</table>\n",
       "</div>"
      ],
      "text/plain": [
       "   fixture_id  league_id  season                       date status  \\\n",
       "0     1208021         39    2024  2024-08-16 19:00:00+00:00     FT   \n",
       "1     1208022         39    2024  2024-08-17 11:30:00+00:00     FT   \n",
       "2     1208025         39    2024  2024-08-17 14:00:00+00:00     FT   \n",
       "3     1208023         39    2024  2024-08-17 14:00:00+00:00     FT   \n",
       "4     1208024         39    2024  2024-08-17 14:00:00+00:00     FT   \n",
       "\n",
       "   home_team_id     home_team_name  away_team_id away_team_name  \\\n",
       "0            33  Manchester United            36         Fulham   \n",
       "1            57            Ipswich            40      Liverpool   \n",
       "2            34          Newcastle            41    Southampton   \n",
       "3            42            Arsenal            39         Wolves   \n",
       "4            45            Everton            51       Brighton   \n",
       "\n",
       "   home_team_halftime_goal  away_team_halftime_goal  home_team_fulltime_goal  \\\n",
       "0                      0.0                      0.0                      1.0   \n",
       "1                      0.0                      0.0                      0.0   \n",
       "2                      1.0                      0.0                      1.0   \n",
       "3                      1.0                      0.0                      2.0   \n",
       "4                      0.0                      1.0                      0.0   \n",
       "\n",
       "   away_team_fulltime_goal  country          league home_fulltime_result  \\\n",
       "0                      0.0  england  premier-league                  win   \n",
       "1                      2.0  england  premier-league                 loss   \n",
       "2                      0.0  england  premier-league                  win   \n",
       "3                      0.0  england  premier-league                  win   \n",
       "4                      3.0  england  premier-league                 loss   \n",
       "\n",
       "  away_fulltime_result home_halftime_result away_halftime_result  \n",
       "0                 loss                 draw                 draw  \n",
       "1                  win                 draw                 draw  \n",
       "2                 loss                  win                 loss  \n",
       "3                 loss                  win                 loss  \n",
       "4                  win                 loss                  win  "
      ]
     },
     "execution_count": 3,
     "metadata": {},
     "output_type": "execute_result"
    }
   ],
   "source": [
    "df.head()\n"
   ]
  },
  {
   "cell_type": "code",
   "execution_count": 7,
   "id": "e4c1924f",
   "metadata": {},
   "outputs": [
    {
     "data": {
      "text/plain": [
       "False"
      ]
     },
     "execution_count": 7,
     "metadata": {},
     "output_type": "execute_result"
    }
   ],
   "source": [
    "pd.api.types.is_datetime64_any_dtype(df['date'])"
   ]
  }
 ],
 "metadata": {
  "kernelspec": {
   "display_name": "football_stats_extract_env",
   "language": "python",
   "name": "python3"
  },
  "language_info": {
   "codemirror_mode": {
    "name": "ipython",
    "version": 3
   },
   "file_extension": ".py",
   "mimetype": "text/x-python",
   "name": "python",
   "nbconvert_exporter": "python",
   "pygments_lexer": "ipython3",
   "version": "3.10.13"
  }
 },
 "nbformat": 4,
 "nbformat_minor": 5
}
